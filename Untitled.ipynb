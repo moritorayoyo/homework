{
 "cells": [
  {
   "cell_type": "markdown",
   "id": "e401327e-ef19-4f3a-84f5-cd8f69f11a86",
   "metadata": {},
   "source": [
    "Introduction to Data Science"
   ]
  },
  {
   "cell_type": "markdown",
   "id": "889657d8-6dd7-473b-82a6-f5085c617d33",
   "metadata": {},
   "source": [
    "## Introduction\n",
    "This notebook provides an overview of languages, libraries, and tools used in Data Science.\n"
   ]
  },
  {
   "cell_type": "markdown",
   "id": "81af83a3-1b99-452e-a453-e44e0c3bbe86",
   "metadata": {},
   "source": [
    "## Data Science Languages\n",
    "- Python\n",
    "- R\n",
    "- SQL\n",
    "- Julia\n"
   ]
  },
  {
   "cell_type": "markdown",
   "id": "2d3a81b4-360b-412f-9528-ae21213068a6",
   "metadata": {},
   "source": [
    "## Data Science Libraries\n",
    "- Pandas\n",
    "- NumPy\n",
    "- Matplotlib\n",
    "- Scikit-Learn\n"
   ]
  },
  {
   "cell_type": "markdown",
   "id": "ac42934d-1c37-4a4d-8b78-174558eb6097",
   "metadata": {},
   "source": [
    "## Data Science Tools\n",
    "| Tool           | Purpose                       |\n",
    "|----------------|-------------------------------|\n",
    "| Jupyter        | Data analysis and visualization |\n",
    "| RStudio        | Data analysis and modeling     |\n",
    "| Apache Spark   | Big data processing            |\n"
   ]
  },
  {
   "cell_type": "markdown",
   "id": "94e6e05d-ee96-4f04-9321-3605deb9c009",
   "metadata": {},
   "source": [
    "## Arithmetic Expression Examples\n",
    "The following examples demonstrate basic arithmetic operations, such as addition and multiplication.\n"
   ]
  },
  {
   "cell_type": "code",
   "execution_count": 2,
   "id": "18cbc3d7-a7b1-4cf1-8ccd-45bd7db58bc0",
   "metadata": {},
   "outputs": [
    {
     "data": {
      "text/plain": [
       "(12, 24)"
      ]
     },
     "execution_count": 2,
     "metadata": {},
     "output_type": "execute_result"
    }
   ],
   "source": [
    "# Example of multiplication and addition\n",
    "result_addition = 5 + 7\n",
    "result_multiplication = 6 * 4\n",
    "result_addition, result_multiplication\n"
   ]
  },
  {
   "cell_type": "code",
   "execution_count": 3,
   "id": "566e06ab-62ee-4ea8-a889-7c29d31fcdc6",
   "metadata": {},
   "outputs": [
    {
     "data": {
      "text/plain": [
       "2.0"
      ]
     },
     "execution_count": 3,
     "metadata": {},
     "output_type": "execute_result"
    }
   ],
   "source": [
    "# Convert minutes to hours\n",
    "minutes = 120\n",
    "hours = minutes / 60\n",
    "hours\n"
   ]
  },
  {
   "cell_type": "markdown",
   "id": "8c79af88-a314-4049-a890-9a4e142212ab",
   "metadata": {},
   "source": [
    "## Objectives\n",
    "- Learn common Data Science languages\n",
    "- Understand key Data Science libraries and tools\n",
    "- Practice basic arithmetic operations\n"
   ]
  },
  {
   "cell_type": "markdown",
   "id": "9d068a80-8138-434f-a0c9-83983f25ce1f",
   "metadata": {},
   "source": [
    "## Author\n",
    "- Name: [Your Name]\n"
   ]
  },
  {
   "cell_type": "code",
   "execution_count": null,
   "id": "732d6fcb-2fe1-4f54-9628-afcd2c48dd7b",
   "metadata": {},
   "outputs": [],
   "source": []
  }
 ],
 "metadata": {
  "kernelspec": {
   "display_name": "Python 3 (ipykernel)",
   "language": "python",
   "name": "python3"
  },
  "language_info": {
   "codemirror_mode": {
    "name": "ipython",
    "version": 3
   },
   "file_extension": ".py",
   "mimetype": "text/x-python",
   "name": "python",
   "nbconvert_exporter": "python",
   "pygments_lexer": "ipython3",
   "version": "3.11.9"
  }
 },
 "nbformat": 4,
 "nbformat_minor": 5
}
